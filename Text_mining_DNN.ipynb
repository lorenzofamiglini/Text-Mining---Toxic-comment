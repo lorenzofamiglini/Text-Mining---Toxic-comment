{
 "cells": [
  {
   "cell_type": "code",
   "execution_count": 11,
   "metadata": {},
   "outputs": [],
   "source": [
    "import pandas as pd\n",
    "import numpy as np\n",
    "#import tensorflow\n",
    "# from tensorflow.compat.v1 import InteractiveSession\n",
    "# config = tensorflow.compat.v1.ConfigProto() \n",
    "# config.gpu_options.allow_growth = True\n",
    "# config.log_device_placement = True\n",
    "# sess = tensorflow.compat.v1.Session(config=config)\n",
    "# from sklearn.model_selection import train_test_split\n",
    "from tensorflow.keras.utils import to_categorical\n",
    "# from tensorflow.keras.layers import Dense, Dropout, Conv1D, MaxPool1D, GlobalMaxPool1D, Embedding, Activation\n",
    "# from tensorflow.keras.preprocessing.text import Tokenizer\n",
    "from tensorflow.keras.preprocessing.sequence import pad_sequences\n",
    "from tensorflow.keras.preprocessing.text import Tokenizer\n",
    "# from tensorflow.keras.preprocessing.sequence import pad_sequences\n",
    "import matplotlib.pyplot as plt"
   ]
  },
  {
   "cell_type": "code",
   "execution_count": 2,
   "metadata": {},
   "outputs": [],
   "source": [
    "df = pd.read_csv(r\"D:\\Datasets\\NLP_text_mining\\preprocessed_text_toxic.csv\")\n",
    "\n",
    "df.text = df.text.replace(\"\\d*\",\"\",regex = True)"
   ]
  },
  {
   "cell_type": "code",
   "execution_count": 3,
   "metadata": {
    "collapsed": true
   },
   "outputs": [
    {
     "ename": "KeyError",
     "evalue": "'string_stop'",
     "output_type": "error",
     "traceback": [
      "\u001b[1;31m---------------------------------------------------------------------------\u001b[0m",
      "\u001b[1;31mKeyError\u001b[0m                                  Traceback (most recent call last)",
      "\u001b[1;32m~\\Anaconda3\\envs\\tensorflow-gpu\\lib\\site-packages\\pandas\\core\\indexes\\base.py\u001b[0m in \u001b[0;36mget_loc\u001b[1;34m(self, key, method, tolerance)\u001b[0m\n\u001b[0;32m   2896\u001b[0m             \u001b[1;32mtry\u001b[0m\u001b[1;33m:\u001b[0m\u001b[1;33m\u001b[0m\u001b[0m\n\u001b[1;32m-> 2897\u001b[1;33m                 \u001b[1;32mreturn\u001b[0m \u001b[0mself\u001b[0m\u001b[1;33m.\u001b[0m\u001b[0m_engine\u001b[0m\u001b[1;33m.\u001b[0m\u001b[0mget_loc\u001b[0m\u001b[1;33m(\u001b[0m\u001b[0mkey\u001b[0m\u001b[1;33m)\u001b[0m\u001b[1;33m\u001b[0m\u001b[0m\n\u001b[0m\u001b[0;32m   2898\u001b[0m             \u001b[1;32mexcept\u001b[0m \u001b[0mKeyError\u001b[0m\u001b[1;33m:\u001b[0m\u001b[1;33m\u001b[0m\u001b[0m\n",
      "\u001b[1;32mpandas/_libs/index.pyx\u001b[0m in \u001b[0;36mpandas._libs.index.IndexEngine.get_loc\u001b[1;34m()\u001b[0m\n",
      "\u001b[1;32mpandas/_libs/index.pyx\u001b[0m in \u001b[0;36mpandas._libs.index.IndexEngine.get_loc\u001b[1;34m()\u001b[0m\n",
      "\u001b[1;32mpandas/_libs/hashtable_class_helper.pxi\u001b[0m in \u001b[0;36mpandas._libs.hashtable.PyObjectHashTable.get_item\u001b[1;34m()\u001b[0m\n",
      "\u001b[1;32mpandas/_libs/hashtable_class_helper.pxi\u001b[0m in \u001b[0;36mpandas._libs.hashtable.PyObjectHashTable.get_item\u001b[1;34m()\u001b[0m\n",
      "\u001b[1;31mKeyError\u001b[0m: 'string_stop'",
      "\nDuring handling of the above exception, another exception occurred:\n",
      "\u001b[1;31mKeyError\u001b[0m                                  Traceback (most recent call last)",
      "\u001b[1;32m<ipython-input-3-1b748f57e45e>\u001b[0m in \u001b[0;36m<module>\u001b[1;34m\u001b[0m\n\u001b[0;32m      5\u001b[0m     \u001b[1;32mreturn\u001b[0m \u001b[0mx\u001b[0m\u001b[1;33m\u001b[0m\u001b[0m\n\u001b[0;32m      6\u001b[0m \u001b[1;33m\u001b[0m\u001b[0m\n\u001b[1;32m----> 7\u001b[1;33m \u001b[0mdf\u001b[0m\u001b[1;33m[\u001b[0m\u001b[1;34m\"nlp_string\"\u001b[0m\u001b[1;33m]\u001b[0m \u001b[1;33m=\u001b[0m \u001b[0mdf\u001b[0m\u001b[1;33m[\u001b[0m\u001b[1;34m\"string_stop\"\u001b[0m\u001b[1;33m]\u001b[0m\u001b[1;33m.\u001b[0m\u001b[0mapply\u001b[0m\u001b[1;33m(\u001b[0m\u001b[0mnlp\u001b[0m\u001b[1;33m)\u001b[0m\u001b[1;33m\u001b[0m\u001b[0m\n\u001b[0m\u001b[0;32m      8\u001b[0m \u001b[1;33m\u001b[0m\u001b[0m\n\u001b[0;32m      9\u001b[0m \u001b[1;32mdef\u001b[0m \u001b[0mpos\u001b[0m\u001b[1;33m(\u001b[0m\u001b[0mx\u001b[0m\u001b[1;33m)\u001b[0m\u001b[1;33m:\u001b[0m\u001b[1;33m\u001b[0m\u001b[0m\n",
      "\u001b[1;32m~\\Anaconda3\\envs\\tensorflow-gpu\\lib\\site-packages\\pandas\\core\\frame.py\u001b[0m in \u001b[0;36m__getitem__\u001b[1;34m(self, key)\u001b[0m\n\u001b[0;32m   2993\u001b[0m             \u001b[1;32mif\u001b[0m \u001b[0mself\u001b[0m\u001b[1;33m.\u001b[0m\u001b[0mcolumns\u001b[0m\u001b[1;33m.\u001b[0m\u001b[0mnlevels\u001b[0m \u001b[1;33m>\u001b[0m \u001b[1;36m1\u001b[0m\u001b[1;33m:\u001b[0m\u001b[1;33m\u001b[0m\u001b[0m\n\u001b[0;32m   2994\u001b[0m                 \u001b[1;32mreturn\u001b[0m \u001b[0mself\u001b[0m\u001b[1;33m.\u001b[0m\u001b[0m_getitem_multilevel\u001b[0m\u001b[1;33m(\u001b[0m\u001b[0mkey\u001b[0m\u001b[1;33m)\u001b[0m\u001b[1;33m\u001b[0m\u001b[0m\n\u001b[1;32m-> 2995\u001b[1;33m             \u001b[0mindexer\u001b[0m \u001b[1;33m=\u001b[0m \u001b[0mself\u001b[0m\u001b[1;33m.\u001b[0m\u001b[0mcolumns\u001b[0m\u001b[1;33m.\u001b[0m\u001b[0mget_loc\u001b[0m\u001b[1;33m(\u001b[0m\u001b[0mkey\u001b[0m\u001b[1;33m)\u001b[0m\u001b[1;33m\u001b[0m\u001b[0m\n\u001b[0m\u001b[0;32m   2996\u001b[0m             \u001b[1;32mif\u001b[0m \u001b[0mis_integer\u001b[0m\u001b[1;33m(\u001b[0m\u001b[0mindexer\u001b[0m\u001b[1;33m)\u001b[0m\u001b[1;33m:\u001b[0m\u001b[1;33m\u001b[0m\u001b[0m\n\u001b[0;32m   2997\u001b[0m                 \u001b[0mindexer\u001b[0m \u001b[1;33m=\u001b[0m \u001b[1;33m[\u001b[0m\u001b[0mindexer\u001b[0m\u001b[1;33m]\u001b[0m\u001b[1;33m\u001b[0m\u001b[0m\n",
      "\u001b[1;32m~\\Anaconda3\\envs\\tensorflow-gpu\\lib\\site-packages\\pandas\\core\\indexes\\base.py\u001b[0m in \u001b[0;36mget_loc\u001b[1;34m(self, key, method, tolerance)\u001b[0m\n\u001b[0;32m   2897\u001b[0m                 \u001b[1;32mreturn\u001b[0m \u001b[0mself\u001b[0m\u001b[1;33m.\u001b[0m\u001b[0m_engine\u001b[0m\u001b[1;33m.\u001b[0m\u001b[0mget_loc\u001b[0m\u001b[1;33m(\u001b[0m\u001b[0mkey\u001b[0m\u001b[1;33m)\u001b[0m\u001b[1;33m\u001b[0m\u001b[0m\n\u001b[0;32m   2898\u001b[0m             \u001b[1;32mexcept\u001b[0m \u001b[0mKeyError\u001b[0m\u001b[1;33m:\u001b[0m\u001b[1;33m\u001b[0m\u001b[0m\n\u001b[1;32m-> 2899\u001b[1;33m                 \u001b[1;32mreturn\u001b[0m \u001b[0mself\u001b[0m\u001b[1;33m.\u001b[0m\u001b[0m_engine\u001b[0m\u001b[1;33m.\u001b[0m\u001b[0mget_loc\u001b[0m\u001b[1;33m(\u001b[0m\u001b[0mself\u001b[0m\u001b[1;33m.\u001b[0m\u001b[0m_maybe_cast_indexer\u001b[0m\u001b[1;33m(\u001b[0m\u001b[0mkey\u001b[0m\u001b[1;33m)\u001b[0m\u001b[1;33m)\u001b[0m\u001b[1;33m\u001b[0m\u001b[0m\n\u001b[0m\u001b[0;32m   2900\u001b[0m         \u001b[0mindexer\u001b[0m \u001b[1;33m=\u001b[0m \u001b[0mself\u001b[0m\u001b[1;33m.\u001b[0m\u001b[0mget_indexer\u001b[0m\u001b[1;33m(\u001b[0m\u001b[1;33m[\u001b[0m\u001b[0mkey\u001b[0m\u001b[1;33m]\u001b[0m\u001b[1;33m,\u001b[0m \u001b[0mmethod\u001b[0m\u001b[1;33m=\u001b[0m\u001b[0mmethod\u001b[0m\u001b[1;33m,\u001b[0m \u001b[0mtolerance\u001b[0m\u001b[1;33m=\u001b[0m\u001b[0mtolerance\u001b[0m\u001b[1;33m)\u001b[0m\u001b[1;33m\u001b[0m\u001b[0m\n\u001b[0;32m   2901\u001b[0m         \u001b[1;32mif\u001b[0m \u001b[0mindexer\u001b[0m\u001b[1;33m.\u001b[0m\u001b[0mndim\u001b[0m \u001b[1;33m>\u001b[0m \u001b[1;36m1\u001b[0m \u001b[1;32mor\u001b[0m \u001b[0mindexer\u001b[0m\u001b[1;33m.\u001b[0m\u001b[0msize\u001b[0m \u001b[1;33m>\u001b[0m \u001b[1;36m1\u001b[0m\u001b[1;33m:\u001b[0m\u001b[1;33m\u001b[0m\u001b[0m\n",
      "\u001b[1;32mpandas/_libs/index.pyx\u001b[0m in \u001b[0;36mpandas._libs.index.IndexEngine.get_loc\u001b[1;34m()\u001b[0m\n",
      "\u001b[1;32mpandas/_libs/index.pyx\u001b[0m in \u001b[0;36mpandas._libs.index.IndexEngine.get_loc\u001b[1;34m()\u001b[0m\n",
      "\u001b[1;32mpandas/_libs/hashtable_class_helper.pxi\u001b[0m in \u001b[0;36mpandas._libs.hashtable.PyObjectHashTable.get_item\u001b[1;34m()\u001b[0m\n",
      "\u001b[1;32mpandas/_libs/hashtable_class_helper.pxi\u001b[0m in \u001b[0;36mpandas._libs.hashtable.PyObjectHashTable.get_item\u001b[1;34m()\u001b[0m\n",
      "\u001b[1;31mKeyError\u001b[0m: 'string_stop'"
     ]
    }
   ],
   "source": [
    "import spacy\n",
    "nlp = spacy.load(\"en_core_web_sm\") #per l'italiano\n",
    "def map_nlp(x):\n",
    "    x = nlp(x)\n",
    "    return x\n",
    "\n",
    "df[\"nlp_string\"] = df[\"string_stop\"].apply(nlp)\n",
    "\n",
    "def pos(x):\n",
    "    x = [token.pos_ for token in x]\n",
    "    return x\n",
    "def ner(x):\n",
    "    x = [token.label_ for token in x.ents]\n",
    "    return x\n",
    "import ast\n",
    "def union_list(x):\n",
    "    x = ast.literal_eval(x)\n",
    "    return ' '.join(x)"
   ]
  },
  {
   "cell_type": "code",
   "execution_count": null,
   "metadata": {},
   "outputs": [],
   "source": [
    "df[\"string_stop\"] = df.Nlp_text_nostopw.apply(union_list)\n",
    "\n",
    "df[\"less_pos\"] = df[\"nlp_string\"].apply(pos)\n",
    "df[\"less_ner\"] = df[\"nlp_string\"].apply(ner)\n",
    "df = df[df.less_pos.astype(str) != \"[]\"]"
   ]
  },
  {
   "cell_type": "code",
   "execution_count": 4,
   "metadata": {},
   "outputs": [],
   "source": [
    "df = pd.read_csv(r\"D:\\Datasets\\NLP_text_mining\\preprocessed_text_toxic2.csv\")"
   ]
  },
  {
   "cell_type": "code",
   "execution_count": 5,
   "metadata": {},
   "outputs": [
    {
     "data": {
      "text/plain": [
       "'explanation why the edits made under my username hardcore metallica fan were reverted they were not vandalisms just closure on some gas after i voted at new york dolls fac and please do not remove the template from the talk page since I am retired now '"
      ]
     },
     "execution_count": 5,
     "metadata": {},
     "output_type": "execute_result"
    }
   ],
   "source": [
    "df.text.iloc[0]"
   ]
  },
  {
   "cell_type": "code",
   "execution_count": 12,
   "metadata": {},
   "outputs": [
    {
     "name": "stderr",
     "output_type": "stream",
     "text": [
      "C:\\Users\\loren\\Anaconda3\\envs\\tensorflow-gpu\\lib\\site-packages\\keras_preprocessing\\text.py:178: UserWarning: The `nb_words` argument in `Tokenizer` has been renamed `num_words`.\n",
      "  warnings.warn('The `nb_words` argument in `Tokenizer` '\n"
     ]
    },
    {
     "name": "stdout",
     "output_type": "stream",
     "text": [
      "Found 184883 unique tokens.\n"
     ]
    }
   ],
   "source": [
    "tokenizer = Tokenizer(nb_words=100000)\n",
    "tokenizer.fit_on_texts(df['text'].astype(str))\n",
    "sequences = tokenizer.texts_to_sequences(df['text'].astype(str))\n",
    "\n",
    "word_index = tokenizer.word_index\n",
    "print('Found %s unique tokens.' % len(word_index))\n",
    "\n",
    "data = pad_sequences(sequences, maxlen=100)\n",
    "\n",
    "labels = to_categorical(np.asarray(df.toxic))"
   ]
  },
  {
   "cell_type": "code",
   "execution_count": 13,
   "metadata": {},
   "outputs": [],
   "source": [
    "# split the data into a training set and a validation set\n",
    "indices = np.arange(data.shape[0])\n",
    "np.random.shuffle(indices)\n",
    "data = data[indices]\n",
    "labels = labels[indices]\n",
    "nb_validation_samples = int(0.20 * data.shape[0])\n",
    "\n",
    "x_train = data[:-nb_validation_samples]\n",
    "y_train = labels[:-nb_validation_samples]\n",
    "x_val = data[-nb_validation_samples:]\n",
    "y_val = labels[-nb_validation_samples:]"
   ]
  },
  {
   "cell_type": "code",
   "execution_count": 14,
   "metadata": {},
   "outputs": [
    {
     "name": "stdout",
     "output_type": "stream",
     "text": [
      "Found 400000 word vectors.\n"
     ]
    }
   ],
   "source": [
    "# load the whole embedding into memory\n",
    "embeddings_index = dict()\n",
    "f = open(\"D:/Datasets/embeddings/glove.6B.200d.txt\", encoding=\"utf8\")\n",
    "lista = []\n",
    "for line in f:\n",
    "    values = line.split()\n",
    "    word = values[0]\n",
    "    lista.append(word)\n",
    "    coefs = np.asarray(values[1:], dtype='float32')\n",
    "    embeddings_index[word] = coefs\n",
    "f.close()\n",
    "print('Found %s word vectors.' % len(embeddings_index))"
   ]
  },
  {
   "cell_type": "code",
   "execution_count": 15,
   "metadata": {},
   "outputs": [],
   "source": [
    "embedding_matrix = np.zeros((len(word_index) + 1, 200))\n",
    "for word, i in word_index.items():\n",
    "    embedding_vector = embeddings_index.get(word)\n",
    "    if embedding_vector is not None:\n",
    "        # words not found in embedding index will be all-zeros.\n",
    "        embedding_matrix[i] = embedding_vector"
   ]
  },
  {
   "cell_type": "markdown",
   "metadata": {},
   "source": [
    "# Visualizzazione embeddings"
   ]
  },
  {
   "cell_type": "code",
   "execution_count": 21,
   "metadata": {},
   "outputs": [],
   "source": [
    "import scipy\n",
    "from scipy.spatial.distance import euclidean\n",
    "def find_closest_embeddings(embedding):\n",
    "    return sorted(embeddings_index.keys(), key=lambda word: euclidean(embeddings_index[word], embedding))"
   ]
  },
  {
   "cell_type": "code",
   "execution_count": 22,
   "metadata": {},
   "outputs": [
    {
     "data": {
      "text/plain": [
       "['hate', 'hatred', 'anyone', 'ought', 'afraid']"
      ]
     },
     "execution_count": 22,
     "metadata": {},
     "output_type": "execute_result"
    }
   ],
   "source": [
    "find_closest_embeddings(embeddings_index[\"hate\"])[:5]"
   ]
  },
  {
   "cell_type": "code",
   "execution_count": 23,
   "metadata": {},
   "outputs": [],
   "source": [
    "toxic_word = df[df[\"toxic\"]==0]"
   ]
  },
  {
   "cell_type": "code",
   "execution_count": 24,
   "metadata": {
    "collapsed": true
   },
   "outputs": [
    {
     "data": {
      "text/plain": [
       "[('article', 71967),\n",
       " ('page', 54198),\n",
       " ('wikipedia', 42518),\n",
       " ('talk', 37669),\n",
       " ('edit', 33546),\n",
       " ('like', 24826),\n",
       " ('think', 23379),\n",
       " ('thank', 22870),\n",
       " ('source', 22766),\n",
       " ('know', 21287),\n",
       " ('add', 18896),\n",
       " ('time', 17281),\n",
       " ('use', 17113),\n",
       " ('people', 16935),\n",
       " ('good', 16641),\n",
       " ('user', 16015),\n",
       " ('need', 14861),\n",
       " ('link', 14505),\n",
       " ('image', 14398),\n",
       " ('say', 14248),\n",
       " ('block', 14124),\n",
       " ('delete', 13974),\n",
       " ('find', 13902),\n",
       " ('want', 13766),\n",
       " ('remove', 13706),\n",
       " ('look', 13154),\n",
       " ('work', 13031),\n",
       " ('help', 11978),\n",
       " ('comment', 11783),\n",
       " ('list', 11744),\n",
       " ('information', 11722),\n",
       " ('change', 11688),\n",
       " ('deletion', 11563),\n",
       " ('question', 11383),\n",
       " ('way', 11374),\n",
       " ('section', 11300),\n",
       " ('editor', 11212),\n",
       " ('point', 11106),\n",
       " ('write', 10813),\n",
       " ('wp', 10620),\n",
       " ('try', 10617),\n",
       " ('go', 10608),\n",
       " ('new', 10393),\n",
       " ('thing', 10244),\n",
       " ('fact', 10114),\n",
       " ('discussion', 9889),\n",
       " ('read', 9739),\n",
       " ('reference', 9596),\n",
       " ('ask', 9201),\n",
       " ('place', 9175),\n",
       " ('revert', 9106),\n",
       " ('include', 8670),\n",
       " ('right', 8630),\n",
       " ('state', 8529),\n",
       " ('get', 8399),\n",
       " ('mean', 8355),\n",
       " ('come', 8303),\n",
       " ('create', 8243),\n",
       " ('note', 8238),\n",
       " ('tag', 8130),\n",
       " ('reason', 7875),\n",
       " ('policy', 7826),\n",
       " ('issue', 7742),\n",
       " ('content', 7439),\n",
       " ('consider', 7345),\n",
       " ('case', 7293),\n",
       " ('year', 7286),\n",
       " ('leave', 7188),\n",
       " ('post', 7151),\n",
       " ('mention', 7144),\n",
       " ('make', 7143),\n",
       " ('word', 7141),\n",
       " ('claim', 7114),\n",
       " ('give', 6792),\n",
       " ('feel', 6788),\n",
       " ('take', 6704),\n",
       " ('problem', 6670),\n",
       " ('history', 6666),\n",
       " ('welcome', 6641),\n",
       " ('utc', 6619),\n",
       " ('request', 6485),\n",
       " ('let', 6462),\n",
       " ('stop', 6390),\n",
       " ('believe', 6363),\n",
       " ('subject', 6326),\n",
       " ('person', 6227),\n",
       " ('start', 6148),\n",
       " ('day', 6142),\n",
       " ('sure', 6115),\n",
       " ('copyright', 5972),\n",
       " ('view', 5788),\n",
       " ('agree', 5772),\n",
       " ('hope', 5743),\n",
       " ('personal', 5702),\n",
       " ('actually', 5691),\n",
       " ('attack', 5609),\n",
       " ('provide', 5580),\n",
       " ('tell', 5568),\n",
       " ('book', 5566),\n",
       " ('continue', 5544)]"
      ]
     },
     "execution_count": 24,
     "metadata": {},
     "output_type": "execute_result"
    }
   ],
   "source": [
    "# from collections import Counter\n",
    "# Counter(\" \".join(toxic_word[\"string_stop\"]).split()).most_common(100)"
   ]
  },
  {
   "cell_type": "markdown",
   "metadata": {},
   "source": [
    "Prendiamo 5 termini con una frequenza alta per commenti toxic sono: \n",
    "- fuck, suck, hate, shit, faggot\n",
    "\n",
    "Prendiamo 5 termini con una frequenza alta per per commenti non toxic sono: \n",
    "- like, think, thank, need, talk"
   ]
  },
  {
   "cell_type": "code",
   "execution_count": 25,
   "metadata": {},
   "outputs": [],
   "source": [
    "lista_1 = [\"fuck\",\"suck\",\"hate\",\"shit\",\"faggot\"]\n",
    "lista_2 = [\"good\", \"think\",\"thank\",\"need\",\"talk\"]\n",
    "lista_totale = [\"fuck\",\"suck\",\"hate\",\"shit\",\"faggot\",\"good\", \"think\",\"thank\",\"need\",\"talk\"]\n",
    "lista_toxic = []\n",
    "lista_non_toxic = []\n",
    "\n",
    "for i in lista_1:\n",
    "    lista_toxic.append(embeddings_index[i])\n",
    "    \n",
    "for j in lista_2:\n",
    "    lista_non_toxic.append(embeddings_index[j])\n",
    "    \n",
    "lista_toxic = np.array(lista_toxic)\n",
    "lista_non_toxic = np.array(lista_non_toxic)"
   ]
  },
  {
   "cell_type": "code",
   "execution_count": 26,
   "metadata": {},
   "outputs": [],
   "source": [
    "vectors = [embeddings_index[word] for word in lista_totale]"
   ]
  },
  {
   "cell_type": "code",
   "execution_count": 34,
   "metadata": {},
   "outputs": [],
   "source": [
    "from sklearn.manifold import TSNE\n",
    "tsne = TSNE(n_components=2,perplexity=2, n_iter=2000)\n",
    "Y = tsne.fit_transform(vectors)"
   ]
  },
  {
   "cell_type": "code",
   "execution_count": 35,
   "metadata": {},
   "outputs": [],
   "source": [
    "tsne_word_embedding = pd.DataFrame(Y)\n",
    "tsne_word_embedding[\"Label\"] = [\"toxic\",\"toxic\",\"toxic\",\"toxic\",\"toxic\",\"Not-toxic\",\n",
    "                               \"Not-toxic\",\"Not-toxic\",\"Not-toxic\",\"Not-toxic\"]"
   ]
  },
  {
   "cell_type": "code",
   "execution_count": 49,
   "metadata": {},
   "outputs": [
    {
     "data": {
      "image/png": "[encoded data removed]",
      "text/plain": [
       "<Figure size 720x360 with 1 Axes>"
      ]
     },
     "metadata": {},
     "output_type": "display_data"
    }
   ],
   "source": [
    "import matplotlib.cm as cm\n",
    "import seaborn as sns\n",
    "plt.rcParams[\"patch.force_edgecolor\"] = True\n",
    "plt.style.use('ggplot')\n",
    "plt.figure(figsize = (10,5),edgecolor = \"black\")\n",
    "sns.scatterplot(Y[:, 0], Y[:, 1], hue = tsne_word_embedding[\"Label\"], s = 55,palette=['red',\"dodgerblue\"])\n",
    "for label, x, y in zip(lista_totale, Y[:, 0], Y[:, 1]):\n",
    "    plt.annotate(label, xy=(x, y), xytext=(1, 5), textcoords=\"offset points\",alpha=1, size = 11, \n",
    "                ha='center',va='bottom')\n",
    "plt.xticks(color =\"black\")\n",
    "plt.yticks(color =\"black\")\n",
    "plt.ylabel(\"tsne_1\").set_color(\"black\")\n",
    "plt.xlabel(\"tsne_2\").set_color(\"black\")\n",
    "plt.grid(True, color = \"darkkhaki\")\n",
    "plt.suptitle(\"Rappresentazione di alcune parole più frequenti estratte dalla matrice di embedding\")\n",
    "plt.title(\"Tali parole sono suddivise per etichetta: commento tossico e neutro\")\n",
    "plt.figtext(.2, .0,\"I pesi degli embeddings, per ciascuna parola, sono stati ridotti a 2 variabili attraverso il tsne\")\n",
    "plt.savefig(r\"D:\\Datasets\\NLP_text_mining\\plot_embeddings.png\", transparent = False)"
   ]
  },
  {
   "cell_type": "markdown",
   "metadata": {},
   "source": [
    "# Modello solo con CNN"
   ]
  },
  {
   "cell_type": "code",
   "execution_count": 14,
   "metadata": {},
   "outputs": [],
   "source": [
    "from tensorflow.keras.models import Sequential"
   ]
  },
  {
   "cell_type": "code",
   "execution_count": 15,
   "metadata": {},
   "outputs": [],
   "source": [
    "import tensorflow.keras as ks\n",
    "from tensorflow.keras.optimizers import SGD\n",
    "opt = ks.optimizers.Nadam(lr=0.0005, beta_1=0.9, beta_2=0.99)"
   ]
  },
  {
   "cell_type": "code",
   "execution_count": 16,
   "metadata": {},
   "outputs": [],
   "source": [
    "from sklearn.utils import class_weight\n",
    "sample_weights = class_weight.compute_sample_weight('balanced', y_train)"
   ]
  },
  {
   "cell_type": "code",
   "execution_count": 67,
   "metadata": {},
   "outputs": [],
   "source": [
    "from tensorflow.keras.models import Sequential\n",
    "from tensorflow.keras.layers import Flatten\n",
    "from tensorflow.keras.regularizers import l1_l2\n",
    "from tensorflow.keras.layers import BatchNormalization\n",
    "from tensorflow.keras.initializers import Constant\n",
    "keras_model = Sequential()\n",
    "embedding_layer = Embedding(len(word_index)+1, 200,weights=[embedding_matrix],\n",
    "                           input_length=100, trainable = False)\n",
    "keras_model.add(embedding_layer)\n",
    "keras_model.add(Conv1D(50, 32, activation='relu', padding='same', strides=1,kernel_initializer='glorot_normal'))\n",
    "keras_model.add(MaxPool1D())\n",
    "keras_model.add(Conv1D(50, 16, activation='relu', padding='same', strides=1,kernel_initializer='glorot_normal'))\n",
    "keras_model.add(MaxPool1D(pool_size=1))\n",
    "keras_model.add(Dropout(0.8156466614325539))\n",
    "keras_model.add(Conv1D(16, 8, activation='relu', padding='same', strides=1,kernel_initializer='glorot_normal'))\n",
    "keras_model.add(MaxPool1D(pool_size=2))\n",
    "keras_model.add(Flatten())\n",
    "keras_model.add(Dense(1024, activation = \"relu\",kernel_regularizer = l1_l2(l1=0.01, l2=0.01)))\n",
    "keras_model.add(Dense(512, activation = \"relu\",kernel_regularizer = l1_l2(l1=0.01, l2=0.01))) #kernel_regularizer = l1_l2(l1=0.1, l2=0.01)\n",
    "keras_model.add(Dropout(0.6680674718307945))\n",
    "keras_model.add(Dense(2, activation = \"softmax\"))\n",
    "keras_model.compile(loss='categorical_crossentropy', metrics=['acc'], optimizer=opt)"
   ]
  },
  {
   "cell_type": "code",
   "execution_count": 68,
   "metadata": {
    "scrolled": true
   },
   "outputs": [
    {
     "name": "stdout",
     "output_type": "stream",
     "text": [
      "Model: \"sequential_6\"\n",
      "_________________________________________________________________\n",
      "Layer (type)                 Output Shape              Param #   \n",
      "=================================================================\n",
      "embedding_6 (Embedding)      (None, 100, 200)          36976800  \n",
      "_________________________________________________________________\n",
      "conv1d_18 (Conv1D)           (None, 100, 50)           320050    \n",
      "_________________________________________________________________\n",
      "max_pooling1d_18 (MaxPooling (None, 50, 50)            0         \n",
      "_________________________________________________________________\n",
      "conv1d_19 (Conv1D)           (None, 50, 50)            40050     \n",
      "_________________________________________________________________\n",
      "max_pooling1d_19 (MaxPooling (None, 50, 50)            0         \n",
      "_________________________________________________________________\n",
      "dropout_12 (Dropout)         (None, 50, 50)            0         \n",
      "_________________________________________________________________\n",
      "conv1d_20 (Conv1D)           (None, 50, 16)            6416      \n",
      "_________________________________________________________________\n",
      "max_pooling1d_20 (MaxPooling (None, 25, 16)            0         \n",
      "_________________________________________________________________\n",
      "flatten_6 (Flatten)          (None, 400)               0         \n",
      "_________________________________________________________________\n",
      "dense_18 (Dense)             (None, 1024)              410624    \n",
      "_________________________________________________________________\n",
      "dense_19 (Dense)             (None, 512)               524800    \n",
      "_________________________________________________________________\n",
      "dropout_13 (Dropout)         (None, 512)               0         \n",
      "_________________________________________________________________\n",
      "dense_20 (Dense)             (None, 2)                 1026      \n",
      "=================================================================\n",
      "Total params: 38,279,766\n",
      "Trainable params: 1,302,966\n",
      "Non-trainable params: 36,976,800\n",
      "_________________________________________________________________\n"
     ]
    }
   ],
   "source": [
    "keras_model.summary()"
   ]
  },
  {
   "cell_type": "code",
   "execution_count": 69,
   "metadata": {},
   "outputs": [],
   "source": [
    "from tensorflow.keras.preprocessing.image import ImageDataGenerator\n",
    "train_img_pro = ImageDataGenerator()"
   ]
  },
  {
   "cell_type": "code",
   "execution_count": 70,
   "metadata": {},
   "outputs": [],
   "source": [
    "from imblearn.under_sampling import RandomUnderSampler\n",
    "from tensorflow.keras.preprocessing.image import ImageDataGenerator\n",
    "train_img_pro = ImageDataGenerator()\n",
    "def balanced_flow_from_directory(flow_from_directory):\n",
    "    for immagini, classi in flow_from_directory:\n",
    "         yield custom_balance(immagini.reshape(immagini.shape[0],immagini.shape[1]),classi)\n",
    "            \n",
    "def custom_balance(X, y):\n",
    "    rus = RandomUnderSampler()\n",
    "    X_resampled, y_resampled = rus.fit_sample(X, y.argmax(axis = -1))     \n",
    "    #X_resampled, y_resampled = shuffle(X_resampled, y_resampled)\n",
    "    #y_resampled = y_resampled.reshape(y_resampled.shape[0], 1, 1, 1) #da mettere se uso model_conv()\n",
    "    y_resampled = to_categorical(y_resampled)#da mettere se uso model_flat()\n",
    "    return(X_resampled, y_resampled)\n",
    "train_generator_flow = train_img_pro.flow((x_train.reshape(x_train.shape[0],x_train.shape[1],1,1), y_train), \n",
    "                    batch_size=10000,\n",
    "                    shuffle=True #riordino i dati in maniera casuale\n",
    "                    )   \n",
    "train_generator_bal = balanced_flow_from_directory(train_generator_flow)"
   ]
  },
  {
   "cell_type": "code",
   "execution_count": 71,
   "metadata": {
    "scrolled": true
   },
   "outputs": [
    {
     "name": "stdout",
     "output_type": "stream",
     "text": [
      "Epoch 1/20\n",
      "200/200 [==============================] - 247s 1s/step - loss: 34.4552 - acc: 0.8396\n",
      "Epoch 2/20\n",
      "200/200 [==============================] - 111s 555ms/step - loss: 0.6909 - acc: 0.9104\n",
      "Epoch 3/20\n",
      "200/200 [==============================] - 91s 455ms/step - loss: 0.6046 - acc: 0.9483\n",
      "Epoch 4/20\n",
      "200/200 [==============================] - 62s 312ms/step - loss: 0.5485 - acc: 0.9727\n",
      "Epoch 5/20\n",
      "200/200 [==============================] - 68s 340ms/step - loss: 0.5387 - acc: 0.9768\n",
      "Epoch 6/20\n",
      "200/200 [==============================] - 68s 340ms/step - loss: 0.5284 - acc: 0.9793\n",
      "Epoch 7/20\n",
      "200/200 [==============================] - 57s 283ms/step - loss: 0.5096 - acc: 0.9867\n",
      "Epoch 8/20\n",
      "200/200 [==============================] - 55s 275ms/step - loss: 0.4911 - acc: 0.9897\n",
      "Epoch 9/20\n",
      "200/200 [==============================] - 56s 280ms/step - loss: 0.6993 - acc: 0.8773\n",
      "Epoch 10/20\n",
      "200/200 [==============================] - 55s 277ms/step - loss: 0.5319 - acc: 0.9752\n",
      "Epoch 11/20\n",
      "200/200 [==============================] - 50s 251ms/step - loss: 0.5182 - acc: 0.98167s\n",
      "Epoch 12/20\n",
      "200/200 [==============================] - 54s 270ms/step - loss: 0.4871 - acc: 0.9886\n",
      "Epoch 13/20\n",
      "200/200 [==============================] - 55s 273ms/step - loss: 0.5325 - acc: 0.9923\n",
      "Epoch 14/20\n",
      "200/200 [==============================] - 47s 237ms/step - loss: 0.5016 - acc: 0.9850\n",
      "Epoch 15/20\n",
      "200/200 [==============================] - 50s 252ms/step - loss: 0.5565 - acc: 0.9831\n",
      "Epoch 16/20\n",
      "200/200 [==============================] - 51s 253ms/step - loss: 0.5469 - acc: 0.9964\n",
      "Epoch 17/20\n",
      "200/200 [==============================] - 49s 246ms/step - loss: 0.4803 - acc: 0.9939\n",
      "Epoch 18/20\n",
      "200/200 [==============================] - 49s 246ms/step - loss: 0.4484 - acc: 0.9974\n",
      "Epoch 19/20\n",
      "200/200 [==============================] - 47s 237ms/step - loss: 0.4761 - acc: 0.9921\n",
      "Epoch 20/20\n",
      "200/200 [==============================] - 47s 237ms/step - loss: 0.4413 - acc: 0.9988\n"
     ]
    },
    {
     "data": {
      "text/plain": [
       "<tensorflow.python.keras.callbacks.History at 0x19db34bd828>"
      ]
     },
     "execution_count": 71,
     "metadata": {},
     "output_type": "execute_result"
    }
   ],
   "source": [
    "keras_model.fit_generator(generator=train_generator_bal,epochs=20, verbose= 1,steps_per_epoch = 200) #class_weight=sample_weights"
   ]
  },
  {
   "cell_type": "code",
   "execution_count": 72,
   "metadata": {},
   "outputs": [],
   "source": [
    "pred = keras_model.predict(x_val)"
   ]
  },
  {
   "cell_type": "code",
   "execution_count": 73,
   "metadata": {},
   "outputs": [
    {
     "name": "stdout",
     "output_type": "stream",
     "text": [
      "              precision    recall  f1-score   support\n",
      "\n",
      "           0       0.97      0.98      0.97     28758\n",
      "           1       0.78      0.69      0.73      3121\n",
      "\n",
      "    accuracy                           0.95     31879\n",
      "   macro avg       0.87      0.83      0.85     31879\n",
      "weighted avg       0.95      0.95      0.95     31879\n",
      "\n"
     ]
    }
   ],
   "source": [
    "from sklearn.metrics import classification_report\n",
    "print(classification_report(y_val.argmax(axis=-1), pred.argmax(axis = -1)))"
   ]
  },
  {
   "cell_type": "code",
   "execution_count": 25,
   "metadata": {},
   "outputs": [],
   "source": [
    "from tensorflow.keras.layers import LSTM"
   ]
  },
  {
   "cell_type": "code",
   "execution_count": null,
   "metadata": {},
   "outputs": [],
   "source": [
    "len(word_index)+1"
   ]
  },
  {
   "cell_type": "markdown",
   "metadata": {},
   "source": [
    "# Modello CNN + LSTM"
   ]
  },
  {
   "cell_type": "code",
   "execution_count": null,
   "metadata": {},
   "outputs": [],
   "source": [
    "keras_model = Sequential()\n",
    "embedding_layer = Embedding(len(word_index)+1, 200,weights=[embedding_matrix],\n",
    "                           input_length=100, trainable = False)\n",
    "keras_model.add(embedding_layer)\n",
    "keras_model.add(Conv1D(50, 32, activation='relu', padding='same', strides=1,kernel_initializer='glorot_normal'))\n",
    "keras_model.add(MaxPool1D())\n",
    "keras_model.add(Conv1D(50, 16, activation='relu', padding='same', strides=1,kernel_initializer='glorot_normal'))\n",
    "keras_model.add(MaxPool1D(pool_size=1))\n",
    "keras_model.add(Dropout(0.6))\n",
    "keras_model.add(Conv1D(16, 8, activation='relu', padding='same', strides=1,kernel_initializer='glorot_normal'))\n",
    "keras_model.add(MaxPool1D(pool_size=4))\n",
    "#keras_model.add(Flatten())\n",
    "keras_model.add(LSTM(70,kernel_regularizer = l1_l2(l1=0.1, l2=0.01)))\n",
    "# keras_model.add(Dense(64, activation = \"relu\",kernel_regularizer = l1_l2(l1=0.1, l2=0.01)))\n",
    "# keras_model.add(Dense(32, activation = \"relu\",kernel_regularizer = l1_l2(l1=0.1, l2=0.01))) #kernel_regularizer = l1_l2(l1=0.1, l2=0.01)\n",
    "keras_model.add(Dropout(0.5))\n",
    "keras_model.add(Dense(2, activation = \"softmax\"))\n",
    "keras_model.compile(loss='categorical_crossentropy', metrics=['acc'], optimizer=opt)"
   ]
  },
  {
   "cell_type": "code",
   "execution_count": null,
   "metadata": {},
   "outputs": [],
   "source": [
    "keras_model.summary()"
   ]
  },
  {
   "cell_type": "code",
   "execution_count": null,
   "metadata": {
    "scrolled": true
   },
   "outputs": [],
   "source": [
    "keras_model.fit_generator(generator=train_generator_bal,epochs=70, verbose= 1,steps_per_epoch = 200)#,class_weight=sample_weights)"
   ]
  },
  {
   "cell_type": "code",
   "execution_count": null,
   "metadata": {},
   "outputs": [],
   "source": [
    "pred = keras_model.predict(x_val)\n",
    "print(classification_report(y_val.argmax(axis=-1), pred.argmax(axis = -1)))"
   ]
  },
  {
   "cell_type": "markdown",
   "metadata": {},
   "source": [
    "## Multi-input Embedding + Pos"
   ]
  },
  {
   "cell_type": "code",
   "execution_count": null,
   "metadata": {},
   "outputs": [],
   "source": [
    "df = df[df.less_pos.astype(str) != \"[]\"]"
   ]
  },
  {
   "cell_type": "code",
   "execution_count": null,
   "metadata": {},
   "outputs": [],
   "source": [
    "import ast\n",
    "def union_list(x):\n",
    "    x = ast.literal_eval(x)\n",
    "    return ' '.join(x)"
   ]
  },
  {
   "cell_type": "code",
   "execution_count": null,
   "metadata": {},
   "outputs": [],
   "source": [
    "df[\"string_stop\"] = df.Nlp_text_nostopw.apply(union_list)"
   ]
  },
  {
   "cell_type": "code",
   "execution_count": null,
   "metadata": {},
   "outputs": [],
   "source": [
    "import spacy\n",
    "nlp = spacy.load(\"en_core_web_sm\") #per l'italiano\n",
    "def map_nlp(x):\n",
    "    x = nlp(x)\n",
    "    return x"
   ]
  },
  {
   "cell_type": "code",
   "execution_count": null,
   "metadata": {
    "scrolled": true
   },
   "outputs": [],
   "source": [
    "df[\"nlp_string\"] = df[\"string_stop\"].apply(nlp)"
   ]
  },
  {
   "cell_type": "code",
   "execution_count": null,
   "metadata": {},
   "outputs": [],
   "source": [
    "def pos(x):\n",
    "    x = [token.pos_ for token in x]\n",
    "    return x\n",
    "def ner(x):\n",
    "    x = [token.label_ for token in x.ents]\n",
    "    return x"
   ]
  },
  {
   "cell_type": "code",
   "execution_count": null,
   "metadata": {},
   "outputs": [],
   "source": [
    "df[\"less_pos\"] = df[\"nlp_string\"].apply(pos)\n",
    "df[\"less_ner\"] = df[\"nlp_string\"].apply(ner)"
   ]
  },
  {
   "cell_type": "code",
   "execution_count": null,
   "metadata": {},
   "outputs": [],
   "source": [
    "# df.to_csv(r\"D:\\Datasets\\NLP_text_mining\\preprocessed_text_toxic2.csv\")"
   ]
  },
  {
   "cell_type": "code",
   "execution_count": null,
   "metadata": {
    "scrolled": true
   },
   "outputs": [],
   "source": [
    "new_features = pd.get_dummies(df.less_pos.apply(pd.Series).stack()).sum(level=0)"
   ]
  },
  {
   "cell_type": "code",
   "execution_count": null,
   "metadata": {},
   "outputs": [],
   "source": [
    "input_feat = pd.get_dummies(df.less_pos.apply(pd.Series).stack())"
   ]
  },
  {
   "cell_type": "code",
   "execution_count": null,
   "metadata": {},
   "outputs": [],
   "source": [
    "df.index\n",
    "new_features.index\n",
    "for i in range(len(new_features.index)):\n",
    "    if new_features.index[i] != df.index[i]:\n",
    "        lista.append(df.index[i])"
   ]
  },
  {
   "cell_type": "code",
   "execution_count": null,
   "metadata": {
    "scrolled": true
   },
   "outputs": [],
   "source": [
    "tox = df[[\"toxic\"]].reset_index()"
   ]
  },
  {
   "cell_type": "code",
   "execution_count": null,
   "metadata": {
    "scrolled": true
   },
   "outputs": [],
   "source": [
    "new_features = new_features.reset_index()"
   ]
  },
  {
   "cell_type": "code",
   "execution_count": null,
   "metadata": {},
   "outputs": [],
   "source": [
    "new_features = pd.merge(new_features, tox, left_on = \"index\", right_on = \"index\")"
   ]
  },
  {
   "cell_type": "code",
   "execution_count": null,
   "metadata": {},
   "outputs": [],
   "source": [
    "new_features.drop(\"index\", axis = 1,inplace = True)"
   ]
  },
  {
   "cell_type": "code",
   "execution_count": null,
   "metadata": {},
   "outputs": [],
   "source": [
    "[\"ADJ\",\"ADP\",\"ADV\",\"AUX\",\"CCONJ\",\"DET\",\"INTJ\",\"NOUN\",\"NUM\",\"PART\",\"PRON\",\"PROPN\",\"PUNCT\",\"SCONJ\",\"SYM\",\"VERB\",\"X\",\"toxic\"]"
   ]
  },
  {
   "cell_type": "code",
   "execution_count": null,
   "metadata": {},
   "outputs": [],
   "source": [
    "new_features = pd.melt(new_features, id_vars = [\"toxic\"])"
   ]
  },
  {
   "cell_type": "code",
   "execution_count": null,
   "metadata": {},
   "outputs": [],
   "source": [
    "import seaborn as sns\n",
    "import matplotlib.pyplot as plt"
   ]
  },
  {
   "cell_type": "code",
   "execution_count": null,
   "metadata": {},
   "outputs": [],
   "source": [
    "new_features"
   ]
  },
  {
   "cell_type": "code",
   "execution_count": null,
   "metadata": {},
   "outputs": [],
   "source": [
    "plot_feat = new_features[new_features[\"value\"] != 0]\n",
    "plot_feat = plot_feat.groupby([\"variable\",\"toxic\"])[[\"value\"]].sum().reset_index()"
   ]
  },
  {
   "cell_type": "code",
   "execution_count": null,
   "metadata": {},
   "outputs": [],
   "source": [
    "plot_feat[\"log_value\"] = np.log(plot_feat[\"value\"])"
   ]
  },
  {
   "cell_type": "code",
   "execution_count": null,
   "metadata": {},
   "outputs": [],
   "source": [
    "plot_feat.groupby(\"toxic\")[\"value\"].sum()"
   ]
  },
  {
   "cell_type": "code",
   "execution_count": null,
   "metadata": {},
   "outputs": [],
   "source": [
    "percentage = []\n",
    "for index, row in plot_feat.iterrows():\n",
    "    if (row['toxic'] == 0):\n",
    "        percentage.append((row.value/4362136)*100)\n",
    "    else:\n",
    "        percentage.append((row.value/378159)*100)"
   ]
  },
  {
   "cell_type": "code",
   "execution_count": null,
   "metadata": {},
   "outputs": [],
   "source": [
    "plot_feat[\"percentage\"] = percentage"
   ]
  },
  {
   "cell_type": "code",
   "execution_count": null,
   "metadata": {},
   "outputs": [],
   "source": [
    "len(np.arange(start = 0,stop = 17,step = 17/34))"
   ]
  },
  {
   "cell_type": "code",
   "execution_count": null,
   "metadata": {},
   "outputs": [],
   "source": [
    "plot_feat[\"lista_num\"] = np.arange(start = 0,stop = 17,step = 17/34)"
   ]
  },
  {
   "cell_type": "code",
   "execution_count": null,
   "metadata": {},
   "outputs": [],
   "source": [
    "plt.figure(figsize = (15,8))\n",
    "g = sns.barplot(x = \"variable\",y =\"percentage\", data=plot_feat, hue = \"toxic\") \n",
    "for index, row in plot_feat.iterrows():\n",
    "    g.text(row.lista_num-0.22,row.percentage+0.2, str(round(row.percentage,2)), color='black', ha=\"center\")\n",
    "plt.xlabel('Part of speech')\n",
    "plt.ylabel('Valori percentuali (%) in termini relativi alla classe y di appartenenza')\n",
    "plt.xticks(rotation=45)\n",
    "plt.title(\"Distribuzione POS su tutte le frasi\")"
   ]
  },
  {
   "cell_type": "markdown",
   "metadata": {},
   "source": [
    "# Modello multi-input"
   ]
  },
  {
   "cell_type": "code",
   "execution_count": null,
   "metadata": {},
   "outputs": [],
   "source": [
    "from tensorflow.keras.layers import BatchNormalization\n",
    "from tensorflow.keras.layers import MaxPooling2D\n",
    "from tensorflow.keras.layers import Conv2D\n",
    "from tensorflow.keras.layers import Activation\n",
    "from tensorflow.keras.layers import Dense\n",
    "from tensorflow.keras.layers import Input, LSTM\n",
    "from tensorflow.keras.models import Model"
   ]
  },
  {
   "cell_type": "code",
   "execution_count": null,
   "metadata": {},
   "outputs": [],
   "source": [
    "tokenizer2 = Tokenizer(nb_words=20)\n",
    "tokenizer2.fit_on_texts(df['less_pos'].astype(str))\n",
    "sequences_pos = tokenizer2.texts_to_sequences(df['less_pos'].astype(str))"
   ]
  },
  {
   "cell_type": "code",
   "execution_count": null,
   "metadata": {},
   "outputs": [],
   "source": [
    "len(max(sequences_pos, key = len))"
   ]
  },
  {
   "cell_type": "code",
   "execution_count": null,
   "metadata": {},
   "outputs": [],
   "source": [
    "len(min(sequences_pos, key = len))"
   ]
  },
  {
   "cell_type": "code",
   "execution_count": null,
   "metadata": {},
   "outputs": [],
   "source": [
    "lengths = [len(i) for i in sequences_pos]"
   ]
  },
  {
   "cell_type": "code",
   "execution_count": null,
   "metadata": {},
   "outputs": [],
   "source": [
    "data_pos = pad_sequences(sequences_pos, maxlen=100)"
   ]
  },
  {
   "cell_type": "code",
   "execution_count": null,
   "metadata": {},
   "outputs": [],
   "source": [
    "data_pos = data_pos[indices]\n",
    "# labels = labels[indices]\n",
    "x_train_pos = data_pos[:-nb_validation_samples]\n",
    "# y_train = labels[:-nb_validation_samples]\n",
    "x_val_pos = data_pos[-nb_validation_samples:]\n",
    "# y_val = labels[-nb_validation_samples:]"
   ]
  },
  {
   "cell_type": "code",
   "execution_count": null,
   "metadata": {},
   "outputs": [],
   "source": [
    "x_train_pos[100]"
   ]
  },
  {
   "cell_type": "code",
   "execution_count": null,
   "metadata": {},
   "outputs": [],
   "source": [
    "from tensorflow.keras.layers import Input\n",
    "from tensorflow.keras.models import Model\n",
    "from tensorflow.keras.layers import MaxPooling1D, Dropout, LSTM\n",
    "input_pos =Input(shape=(100,1), name = \"Input_pos\")\n",
    "input_embed = Input(shape = (100), name = \"Input_embedding\")\n",
    "\n",
    "embedding_layer = Embedding(len(word_index)+1, 200,weights=[embedding_matrix],\n",
    "                           input_length=100, trainable = False)(input_embed)\n",
    "x = Conv1D(50, 32, activation='relu', padding='same', strides=1,kernel_initializer='glorot_normal')(embedding_layer)\n",
    "x = MaxPooling1D()(x)\n",
    "x = Conv1D(50, 16, activation='relu', padding='same', strides=1,kernel_initializer='glorot_normal')(x)\n",
    "x = MaxPooling1D(pool_size = 1)(x)\n",
    "x = Dropout(0.4)(x)\n",
    "x = Conv1D(16, 8, activation='relu', padding='same', strides=1,kernel_initializer='glorot_normal')(x)\n",
    "x = MaxPooling1D(pool_size = 4)(x)  \n",
    "x = LSTM(100, kernel_regularizer=l1_l2(l1 = 0.1, l2 = 0.1))(x)\n",
    "aux_output = Dropout(0.2)(x)\n",
    "#x = Flatten()(x)\n",
    "#aux_output = Dense(128, activation='relu')(x)\n",
    "# preds = Dense(2, activation='softmax')(x)\n",
    "\n",
    "model=LSTM(500)(input_pos)\n",
    "model = Dropout(0.1)(model)\n",
    "#model = Dense(64, activation = \"relu\")(model)\n",
    "aux_output2 = Dense(64,activation = \"relu\")(model)\n",
    "\n",
    "main_out = tensorflow.keras.backend.concatenate([aux_output,aux_output2])\n",
    "main_out = Dense(64, activation = \"relu\")(main_out)\n",
    "main_out = Dense(2, activation = \"softmax\", name = \"output_totale\")(main_out)\n",
    "\n",
    "model_tot = Model(inputs = [input_embed, input_pos], outputs = main_out)\n",
    "# model = Dense(64,activation = \"relu\")(model)\n",
    "# model=Dense(2, activation = \"softmax\")(model)\n",
    "# myModel=Model(input_model,model)"
   ]
  },
  {
   "cell_type": "code",
   "execution_count": null,
   "metadata": {},
   "outputs": [],
   "source": [
    "model_tot.summary()"
   ]
  },
  {
   "cell_type": "code",
   "execution_count": null,
   "metadata": {},
   "outputs": [],
   "source": [
    "model_tot.compile(loss='categorical_crossentropy',\n",
    "              optimizer=opt,\n",
    "              metrics=['accuracy'])"
   ]
  },
  {
   "cell_type": "code",
   "execution_count": null,
   "metadata": {},
   "outputs": [],
   "source": [
    "input_generator = np.concatenate([x_train, x_train_pos], axis = 1)\n",
    "input_generator = input_generator.reshape(input_generator.shape[0], input_generator.shape[1],1,1)\n",
    "\n",
    "from imblearn.under_sampling import RandomUnderSampler\n",
    "def balanced_flow_from_directory(flow_from_directory):\n",
    "    for immagini, classi in flow_from_directory:\n",
    "         yield custom_balance(np.squeeze(immagini),classi)\n",
    "            \n",
    "def custom_balance(X, y):\n",
    "    rus = RandomUnderSampler()\n",
    "    X_resampled, y_resampled = rus.fit_sample(X, y.argmax(axis = -1))     \n",
    "    #X_resampled, y_resampled = shuffle(X_resampled, y_resampled)\n",
    "    #y_resampled = y_resampled.reshape(y_resampled.shape[0], 1, 1, 1) #da mettere se uso model_conv()\n",
    "    y_resampled = to_categorical(y_resampled)#da mettere se uso model_flat()\n",
    "    return([X_resampled[:,0:100],np.expand_dims(X_resampled[:,100:],-1)] , y_resampled)\n",
    "\n",
    "train_generator_flow = train_img_pro.flow((input_generator, y_train), \n",
    "                    batch_size=256,\n",
    "                    shuffle=False #riordino i dati in maniera casuale\n",
    "                    )   \n",
    "train_generator_bal = balanced_flow_from_directory(train_generator_flow)"
   ]
  },
  {
   "cell_type": "code",
   "execution_count": null,
   "metadata": {},
   "outputs": [],
   "source": [
    "model_tot.fit_generator(train_generator_bal, steps_per_epoch=200, epochs=100)"
   ]
  },
  {
   "cell_type": "code",
   "execution_count": null,
   "metadata": {},
   "outputs": [],
   "source": [
    "pred = model_tot.predict([x_val.astype(\"float32\"), np.expand_dims(x_val_pos.astype(\"float32\"),-1)])"
   ]
  },
  {
   "cell_type": "code",
   "execution_count": null,
   "metadata": {},
   "outputs": [],
   "source": [
    "from sklearn.metrics import classification_report\n",
    "print(classification_report(y_val.argmax(axis = -1), pred.argmax(axis=-1)))"
   ]
  },
  {
   "cell_type": "code",
   "execution_count": null,
   "metadata": {},
   "outputs": [],
   "source": [
    "pred.argmax(axis = -1)[:20]"
   ]
  },
  {
   "cell_type": "code",
   "execution_count": null,
   "metadata": {},
   "outputs": [],
   "source": []
  }
 ],
 "metadata": {
  "kernelspec": {
   "display_name": "Python 3",
   "language": "python",
   "name": "python3"
  },
  "language_info": {
   "codemirror_mode": {
    "name": "ipython",
    "version": 3
   },
   "file_extension": ".py",
   "mimetype": "text/x-python",
   "name": "python",
   "nbconvert_exporter": "python",
   "pygments_lexer": "ipython3",
   "version": "3.7.0"
  }
 },
 "nbformat": 4,
 "nbformat_minor": 2
}
